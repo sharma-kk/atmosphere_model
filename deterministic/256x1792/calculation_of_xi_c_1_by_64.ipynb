{
 "cells": [
  {
   "cell_type": "code",
   "execution_count": 44,
   "metadata": {},
   "outputs": [],
   "source": [
    "import numpy as np\n",
    "import matplotlib.pyplot as plt"
   ]
  },
  {
   "cell_type": "code",
   "execution_count": 45,
   "metadata": {},
   "outputs": [],
   "source": [
    "data = np.load('./data_for_xi_calculation/dX_data_t=27.0_to_t=54.0_c=1by64.npz')"
   ]
  },
  {
   "cell_type": "code",
   "execution_count": 46,
   "metadata": {},
   "outputs": [
    {
     "data": {
      "text/plain": [
       "['dX_x', 'dX_y']"
      ]
     },
     "execution_count": 46,
     "metadata": {},
     "output_type": "execute_result"
    }
   ],
   "source": [
    "data.files"
   ]
  },
  {
   "cell_type": "code",
   "execution_count": 47,
   "metadata": {},
   "outputs": [],
   "source": [
    "dX1 = data['dX_x']\n",
    "dX2 = data['dX_y']"
   ]
  },
  {
   "cell_type": "code",
   "execution_count": 48,
   "metadata": {},
   "outputs": [
    {
     "data": {
      "text/plain": [
       "((46, 29120), (46, 29120))"
      ]
     },
     "execution_count": 48,
     "metadata": {},
     "output_type": "execute_result"
    }
   ],
   "source": [
    "dX1.shape, dX2.shape"
   ]
  },
  {
   "cell_type": "code",
   "execution_count": 49,
   "metadata": {},
   "outputs": [],
   "source": [
    "from numpy import linalg as LA\n",
    "from scipy import signal"
   ]
  },
  {
   "cell_type": "code",
   "execution_count": 50,
   "metadata": {},
   "outputs": [],
   "source": [
    "Dt_c = 0.02\n",
    "scaled_dX1 = dX1/np.sqrt(Dt_c)\n",
    "scaled_dX2 = dX2/np.sqrt(Dt_c)"
   ]
  },
  {
   "cell_type": "code",
   "execution_count": 51,
   "metadata": {},
   "outputs": [
    {
     "data": {
      "text/plain": [
       "(46, 29120)"
      ]
     },
     "execution_count": 51,
     "metadata": {},
     "output_type": "execute_result"
    }
   ],
   "source": [
    "F1 = signal.detrend(scaled_dX1, axis=0, type='constant')\n",
    "F1.shape"
   ]
  },
  {
   "cell_type": "code",
   "execution_count": 9,
   "metadata": {},
   "outputs": [],
   "source": [
    "F2 = signal.detrend(scaled_dX2, axis=0, type='constant')"
   ]
  },
  {
   "cell_type": "code",
   "execution_count": 10,
   "metadata": {},
   "outputs": [],
   "source": [
    "Ax, bx, CxT = LA.svd(F1, full_matrices=False)\n",
    "Ay, by, CyT = LA.svd(F2, full_matrices=False)"
   ]
  },
  {
   "cell_type": "code",
   "execution_count": 11,
   "metadata": {},
   "outputs": [
    {
     "data": {
      "text/plain": [
       "<matplotlib.legend.Legend at 0x7fbbf5b3a8f0>"
      ]
     },
     "execution_count": 11,
     "metadata": {},
     "output_type": "execute_result"
    },
    {
     "data": {
      "image/png": "[encoded data removed]",
      "text/plain": [
       "<Figure size 432x288 with 1 Axes>"
      ]
     },
     "metadata": {
      "needs_background": "light"
     },
     "output_type": "display_data"
    }
   ],
   "source": [
    "plt.plot(bx, label='eigval_x'), plt.plot(by, label='eigval_y')\n",
    "plt.legend()"
   ]
  },
  {
   "cell_type": "code",
   "execution_count": 35,
   "metadata": {},
   "outputs": [
    {
     "data": {
      "text/plain": [
       "(array([2.37089813e-01, 2.22335746e-01, 1.98704958e-01, 1.95212955e-01,\n",
       "        1.76635245e-01, 1.71720677e-01, 1.64303414e-01, 1.63764287e-01,\n",
       "        1.60900604e-01, 1.52849081e-01, 1.48437672e-01, 1.44040837e-01,\n",
       "        1.43026360e-01, 1.40052322e-01, 1.39119714e-01, 1.36276829e-01,\n",
       "        1.35149738e-01, 1.31745679e-01, 1.29878401e-01, 1.28685194e-01,\n",
       "        1.27703150e-01, 1.25999260e-01, 1.22327423e-01, 1.20713406e-01,\n",
       "        1.17719490e-01, 1.15945923e-01, 1.14487036e-01, 1.13477929e-01,\n",
       "        1.10929579e-01, 1.09842043e-01, 1.05443981e-01, 1.03225145e-01,\n",
       "        1.00303144e-01, 9.70312836e-02, 9.63636383e-02, 9.35170336e-02,\n",
       "        9.20593286e-02, 9.07356154e-02, 8.84742920e-02, 8.76769888e-02,\n",
       "        8.23866189e-02, 7.68495553e-02, 7.45057247e-02, 7.18165452e-02,\n",
       "        6.82372520e-02, 1.44195431e-16]),\n",
       " array([1.29632722e-01, 1.27068833e-01, 1.24613253e-01, 1.22508096e-01,\n",
       "        1.21016801e-01, 1.17727604e-01, 1.16439491e-01, 1.14814619e-01,\n",
       "        1.14311636e-01, 1.11836527e-01, 1.11447927e-01, 1.09869473e-01,\n",
       "        1.07975034e-01, 1.05572502e-01, 1.04133645e-01, 1.01157984e-01,\n",
       "        9.97498785e-02, 9.84368531e-02, 9.54948969e-02, 9.35449983e-02,\n",
       "        9.16791434e-02, 8.99987036e-02, 8.87324548e-02, 8.76437109e-02,\n",
       "        8.67511730e-02, 8.51945902e-02, 8.34907969e-02, 7.95267319e-02,\n",
       "        7.82642959e-02, 7.69371287e-02, 7.49591123e-02, 7.30442876e-02,\n",
       "        7.20738923e-02, 7.05560665e-02, 6.91907006e-02, 6.81700345e-02,\n",
       "        6.68746083e-02, 6.57941163e-02, 6.39641262e-02, 6.17183867e-02,\n",
       "        5.89988016e-02, 5.74851089e-02, 5.56679079e-02, 5.48120152e-02,\n",
       "        5.30603186e-02, 5.75684931e-17]))"
      ]
     },
     "execution_count": 35,
     "metadata": {},
     "output_type": "execute_result"
    }
   ],
   "source": [
    "bx, by"
   ]
  },
  {
   "cell_type": "code",
   "execution_count": 12,
   "metadata": {},
   "outputs": [],
   "source": [
    "Bx = np.diag(bx/np.sqrt(F1.shape[0]-1))\n",
    "By = np.diag(by/np.sqrt(F2.shape[0]-1))"
   ]
  },
  {
   "cell_type": "code",
   "execution_count": 13,
   "metadata": {},
   "outputs": [
    {
     "data": {
      "text/plain": [
       "((46, 46), (46, 29120))"
      ]
     },
     "execution_count": 13,
     "metadata": {},
     "output_type": "execute_result"
    }
   ],
   "source": [
    "Bx.shape, CxT.shape"
   ]
  },
  {
   "cell_type": "code",
   "execution_count": 14,
   "metadata": {},
   "outputs": [],
   "source": [
    "BxCxT = np.matmul(Bx, CxT)\n",
    "ByCyT = np.matmul(By, CyT)"
   ]
  },
  {
   "cell_type": "code",
   "execution_count": 15,
   "metadata": {},
   "outputs": [
    {
     "data": {
      "text/plain": [
       "(True, True)"
      ]
     },
     "execution_count": 15,
     "metadata": {},
     "output_type": "execute_result"
    }
   ],
   "source": [
    "np.allclose(F1, np.matmul(Ax, np.matmul(np.diag(bx), CxT))), np.allclose(F2, np.matmul(Ay, np.matmul(np.diag(by), CyT)))"
   ]
  },
  {
   "cell_type": "code",
   "execution_count": 16,
   "metadata": {},
   "outputs": [],
   "source": [
    "var_x_vec = bx**2/(F1.shape[0]-1)\n",
    "var_y_vec = by**2/(F1.shape[0]-1)"
   ]
  },
  {
   "cell_type": "code",
   "execution_count": 37,
   "metadata": {},
   "outputs": [
    {
     "name": "stdout",
     "output_type": "stream",
     "text": [
      "Total vairance captured by first 44 eigenvalues x component: 99.41485710297063\n",
      "Total vairance captured by first 44 eigenvalues y component: 99.26937550090783\n"
     ]
    }
   ],
   "source": [
    "n_eigval = 44\n",
    "\n",
    "p1 = 100*np.sum(var_x_vec[:n_eigval])/(np.sum(var_x_vec))\n",
    "p2 = 100*np.sum(var_y_vec[:n_eigval])/(np.sum(var_y_vec))\n",
    "\n",
    "print(f'Total vairance captured by first {n_eigval} eigenvalues x component: {p1}')\n",
    "print(f'Total vairance captured by first {n_eigval} eigenvalues y component: {p2}')"
   ]
  },
  {
   "cell_type": "code",
   "execution_count": 34,
   "metadata": {},
   "outputs": [
    {
     "name": "stdout",
     "output_type": "stream",
     "text": [
      "Total vairance captured by first 35 eigenvalues x component: 91.3256673476835\n",
      "Total vairance captured by first 35 eigenvalues y component: 90.38440077558953\n"
     ]
    }
   ],
   "source": [
    "n_eigval = 35\n",
    "\n",
    "p1 = 100*np.sum(var_x_vec[:n_eigval])/(np.sum(var_x_vec))\n",
    "p2 = 100*np.sum(var_y_vec[:n_eigval])/(np.sum(var_y_vec))\n",
    "\n",
    "print(f'Total vairance captured by first {n_eigval} eigenvalues x component: {p1}')\n",
    "print(f'Total vairance captured by first {n_eigval} eigenvalues y component: {p2}')"
   ]
  },
  {
   "cell_type": "code",
   "execution_count": 19,
   "metadata": {},
   "outputs": [
    {
     "data": {
      "text/plain": [
       "((46, 29120),\n",
       " array([[ 6.33585493e-04,  6.19453711e-04,  2.69742425e-04, ...,\n",
       "          2.19123946e-04,  8.27140718e-05,  7.67200329e-05],\n",
       "        [-2.85340971e-04, -3.27247106e-04, -1.81679264e-04, ...,\n",
       "         -1.10961433e-04,  8.24814039e-05,  8.54198859e-05],\n",
       "        [ 2.20179636e-04,  2.34542006e-04,  3.47824621e-04, ...,\n",
       "         -7.59241499e-05, -1.99445019e-04, -2.01789049e-04],\n",
       "        ...,\n",
       "        [-3.90896354e-06, -3.62242480e-06, -2.97242915e-06, ...,\n",
       "          1.46868939e-05,  8.48012379e-06,  9.10904204e-06],\n",
       "        [ 2.45027780e-05,  2.36743898e-05,  2.16635005e-05, ...,\n",
       "          3.41585644e-06, -5.48992830e-06, -4.27114344e-06],\n",
       "        [ 4.57298312e-18,  8.61515801e-19,  7.86936594e-18, ...,\n",
       "          5.05330861e-21,  3.02654026e-20, -2.55050648e-19]]))"
      ]
     },
     "execution_count": 19,
     "metadata": {},
     "output_type": "execute_result"
    }
   ],
   "source": [
    "BxCxT.shape, BxCxT"
   ]
  },
  {
   "cell_type": "code",
   "execution_count": 20,
   "metadata": {},
   "outputs": [
    {
     "data": {
      "text/plain": [
       "((46, 29120),\n",
       " array([[-8.08148778e-19,  5.25214579e-19, -2.10665854e-05, ...,\n",
       "          3.30988110e-05, -6.63693658e-19, -5.04690908e-19],\n",
       "        [-6.65364462e-19,  2.71523520e-18,  1.02719420e-05, ...,\n",
       "          7.01062297e-06,  6.00214874e-19,  5.51765029e-19],\n",
       "        [ 3.59917568e-19, -4.40297721e-19,  5.91697122e-07, ...,\n",
       "          7.68669618e-06, -5.93953154e-19, -5.26276381e-19],\n",
       "        ...,\n",
       "        [ 9.13589579e-19, -1.89017252e-19, -1.62977028e-06, ...,\n",
       "         -2.45147914e-06, -5.63654615e-20, -4.93576846e-20],\n",
       "        [-7.66702474e-19, -7.02129007e-19, -3.07399219e-06, ...,\n",
       "         -2.10373069e-06,  1.96533203e-20,  1.47433545e-20],\n",
       "        [-9.23348983e-19,  1.24991279e-18,  1.67177886e-18, ...,\n",
       "         -3.10920140e-21,  1.86749736e-34, -2.72789457e-34]]))"
      ]
     },
     "execution_count": 20,
     "metadata": {},
     "output_type": "execute_result"
    }
   ],
   "source": [
    "ByCyT.shape, ByCyT"
   ]
  },
  {
   "cell_type": "code",
   "execution_count": 21,
   "metadata": {},
   "outputs": [
    {
     "data": {
      "text/plain": [
       "(46, 29120)"
      ]
     },
     "execution_count": 21,
     "metadata": {},
     "output_type": "execute_result"
    }
   ],
   "source": [
    "CxT.shape"
   ]
  },
  {
   "cell_type": "code",
   "execution_count": 22,
   "metadata": {},
   "outputs": [
    {
     "data": {
      "text/plain": [
       "(46, 29120)"
      ]
     },
     "execution_count": 22,
     "metadata": {},
     "output_type": "execute_result"
    }
   ],
   "source": [
    "CyT.shape"
   ]
  },
  {
   "cell_type": "code",
   "execution_count": 23,
   "metadata": {},
   "outputs": [
    {
     "data": {
      "text/plain": [
       "(46, 29120, 2)"
      ]
     },
     "execution_count": 23,
     "metadata": {},
     "output_type": "execute_result"
    }
   ],
   "source": [
    "stacked1 = np.stack((BxCxT, ByCyT), axis=-1)\n",
    "stacked1.shape"
   ]
  },
  {
   "cell_type": "code",
   "execution_count": 24,
   "metadata": {},
   "outputs": [],
   "source": [
    "xi_mat_1 = stacked1"
   ]
  },
  {
   "cell_type": "code",
   "execution_count": 38,
   "metadata": {},
   "outputs": [
    {
     "data": {
      "text/plain": [
       "<matplotlib.legend.Legend at 0x7fbbf2413040>"
      ]
     },
     "execution_count": 38,
     "metadata": {},
     "output_type": "execute_result"
    },
    {
     "data": {
      "image/png": "[encoded data removed]",
      "text/plain": [
       "<Figure size 432x288 with 1 Axes>"
      ]
     },
     "metadata": {
      "needs_background": "light"
     },
     "output_type": "display_data"
    }
   ],
   "source": [
    "plt.plot(xi_mat_1[0,:,0], label='1st x eigenvec sagy'), plt.plot(xi_mat_1[-3,:,0], label='44th x eigenvec sagy')\n",
    "plt.legend()"
   ]
  },
  {
   "cell_type": "code",
   "execution_count": 26,
   "metadata": {},
   "outputs": [
    {
     "data": {
      "text/plain": [
       "(46, 29120, 2)"
      ]
     },
     "execution_count": 26,
     "metadata": {},
     "output_type": "execute_result"
    }
   ],
   "source": [
    "stacked2 = np.stack((CxT, CyT), axis=-1)\n",
    "stacked2.shape"
   ]
  },
  {
   "cell_type": "code",
   "execution_count": 27,
   "metadata": {},
   "outputs": [],
   "source": [
    "xi_mat_2 = stacked2"
   ]
  },
  {
   "cell_type": "code",
   "execution_count": 39,
   "metadata": {},
   "outputs": [
    {
     "data": {
      "text/plain": [
       "<matplotlib.legend.Legend at 0x7fbbf23e9480>"
      ]
     },
     "execution_count": 39,
     "metadata": {},
     "output_type": "execute_result"
    },
    {
     "data": {
      "image/png": "[encoded data removed]",
      "text/plain": [
       "<Figure size 432x288 with 1 Axes>"
      ]
     },
     "metadata": {
      "needs_background": "light"
     },
     "output_type": "display_data"
    }
   ],
   "source": [
    "plt.plot(xi_mat_2[0,:,0], label='1st x eigenvec wei'), plt.plot(xi_mat_2[-3,:,0], label='44th x eigenvec wei')\n",
    "plt.legend()"
   ]
  },
  {
   "cell_type": "code",
   "execution_count": 40,
   "metadata": {},
   "outputs": [
    {
     "data": {
      "text/plain": [
       "(44, 29120, 2)"
      ]
     },
     "execution_count": 40,
     "metadata": {},
     "output_type": "execute_result"
    }
   ],
   "source": [
    "eig_vec1 = xi_mat_1[:44,:,:]\n",
    "eig_vec1.shape"
   ]
  },
  {
   "cell_type": "code",
   "execution_count": 41,
   "metadata": {},
   "outputs": [],
   "source": [
    "data_file = './xi_vec_data/xi_matrix_44_eigvec_Sagy_method_c_1_by_64.npz'\n",
    "\n",
    "np.savez(data_file, xi_mat1 = eig_vec1)"
   ]
  },
  {
   "cell_type": "code",
   "execution_count": 42,
   "metadata": {},
   "outputs": [
    {
     "data": {
      "text/plain": [
       "(44, 29120, 2)"
      ]
     },
     "execution_count": 42,
     "metadata": {},
     "output_type": "execute_result"
    }
   ],
   "source": [
    "eig_vec2 = xi_mat_2[:44,:,:]\n",
    "eig_vec2.shape"
   ]
  },
  {
   "cell_type": "code",
   "execution_count": 43,
   "metadata": {},
   "outputs": [],
   "source": [
    "data_file = './xi_vec_data/xi_matrix_44_eigvec_wei_method_c_1_by_64.npz'\n",
    "\n",
    "np.savez(data_file, xi_mat2 = eig_vec2)"
   ]
  }
 ],
 "metadata": {
  "kernelspec": {
   "display_name": "Python 3",
   "language": "python",
   "name": "python3"
  },
  "language_info": {
   "codemirror_mode": {
    "name": "ipython",
    "version": 3
   },
   "file_extension": ".py",
   "mimetype": "text/x-python",
   "name": "python",
   "nbconvert_exporter": "python",
   "pygments_lexer": "ipython3",
   "version": "3.10.12"
  }
 },
 "nbformat": 4,
 "nbformat_minor": 2
}
